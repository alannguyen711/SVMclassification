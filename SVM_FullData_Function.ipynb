{
 "cells": [
  {
   "cell_type": "code",
   "execution_count": 1,
   "id": "2c241ff8-6bfe-49c4-8eee-a5fc320dcb4b",
   "metadata": {},
   "outputs": [],
   "source": [
    "import os \n",
    "import numpy as np\n",
    "import pandas as pd\n",
    "import time as tm\n",
    "from sklearn.svm import LinearSVC\n",
    "from sklearn.calibration import CalibratedClassifierCV"
   ]
  },
  {
   "cell_type": "markdown",
   "id": "27503c56",
   "metadata": {},
   "source": [
    "Read in the testing data that the SVM will classify."
   ]
  },
  {
   "cell_type": "code",
   "execution_count": 2,
   "id": "b497382d-2fab-4421-a27d-f8660f7dfcd7",
   "metadata": {},
   "outputs": [
    {
     "data": {
      "text/plain": [
       "(27998, 24803)"
      ]
     },
     "execution_count": 2,
     "metadata": {},
     "output_type": "execute_result"
    }
   ],
   "source": [
    "data = pd.read_csv('data/test_fulldata.csv', index_col = 0, sep = ',')\n",
    "\n",
    "data.shape"
   ]
  },
  {
   "cell_type": "markdown",
   "id": "ce5daa06-b696-43df-969b-e98febb3ea6f",
   "metadata": {},
   "source": [
    "The function **SVM_FullData_Function** is an adaptation of a program Christy provided that returns the SVM's predicitons as a csv file. I wanted to make it into a function so I wouldn't have to rerun the program for every single class and change the file paths."
   ]
  },
  {
   "cell_type": "code",
   "execution_count": 31,
   "id": "bffb7302-5ed3-46eb-8bd9-ca2583d14543",
   "metadata": {},
   "outputs": [],
   "source": [
    "def SVM_FullData_Function(ref_data, ref_data_labels_general, ref_data_labels_specific, SVM_Pred_Labels_general, SVM_Pred_Labels_specific):\n",
    "\n",
    "    # These are the names of the files we want to load \n",
    "    train_data = ref_data\n",
    "    general_labels = ref_data_labels_general\n",
    "    specific_labels = ref_data_labels_specific\n",
    "\n",
    "    # These are the file names the output will be saved as\n",
    "    general_pred = SVM_Pred_Labels_general\n",
    "    specific_pred = SVM_Pred_Labels_specific\n",
    "\n",
    "    # Read in data, remember python starts indexing at 0, 1, 2... (vs R which starts at 1, 2, 3..)\n",
    "    train = pd.read_csv(train_data, index_col = 0, sep = ',')\n",
    "    test = data\n",
    "\n",
    "    labels = pd.read_csv(specific_labels, header = 0, index_col =None)\n",
    "    \n",
    "    train.shape\n",
    "    labels.shape\n",
    "\n",
    "    # We only want the column with cell labels, not the cell barcodes (barcodes = cell names)\n",
    "    labels = labels.iloc[:, 1]\n",
    "\n",
    "    # input files are: rows = genes, columns = cells. For svm in python, you need: (n_samples, n_features), so you need to transpose the data matrix \n",
    "\n",
    "    train = train.T\n",
    "    test = test.T\n",
    "\n",
    "\n",
    "    train = np.log1p(train)\n",
    "    test = np.log1p(test)\n",
    "\n",
    "    # Define the classifier \n",
    "    Classifier = LinearSVC()\n",
    "    clf = CalibratedClassifierCV(Classifier)\n",
    "    threshold = 0.7\n",
    "\n",
    "\n",
    "    pred = []\n",
    "    # Training\n",
    "    clf.fit(train, labels)\n",
    "\n",
    "    print('Training done')\n",
    "\n",
    "    # Prediction\n",
    "    predicted = clf.predict(test)\n",
    "    # get the max probability predicted per cell\n",
    "    prob = np.max(clf.predict_proba(test), axis = 1)\n",
    "\n",
    "    # If max probability below 0.7 (threshold) then call it unknown\n",
    "    unlabeled = np.where(prob < threshold)\n",
    "    predicted[unlabeled] = 'Unknown'\n",
    "\n",
    "    print('Classification done')\n",
    "    print(tm.time())\n",
    "\n",
    "\n",
    "    pred.extend(predicted)   \n",
    "\n",
    "    pred = pd.DataFrame(pred)\n",
    "\n",
    "\n",
    "    pred.to_csv(specific_pred, index = False)\n",
    "\n",
    "\n",
    "    # Repeat same thing but this time the labels are the general labels \n",
    "    labels = pd.read_csv(general_labels, header = 0, index_col =None)\n",
    "    labels = labels.iloc[:, 1]\n",
    "    Classifier = LinearSVC()\n",
    "    clf = CalibratedClassifierCV(Classifier)\n",
    "    threshold = 0.7\n",
    "\n",
    "    pred = []\n",
    "\n",
    "    clf.fit(train, labels)\n",
    "\n",
    "    print('Training done')\n",
    "    print(tm.time())\n",
    "\n",
    "    predicted = clf.predict(test)\n",
    "    prob = np.max(clf.predict_proba(test), axis = 1)\n",
    "    unlabeled = np.where(prob < threshold)\n",
    "    predicted[unlabeled] = 'Unknown'\n",
    "\n",
    "\n",
    "\n",
    "    pred.extend(predicted)   \n",
    "\n",
    "    pred = pd.DataFrame(pred)\n",
    "\n",
    "\n",
    "\n",
    "    pred.to_csv(general_pred, index = False)\n",
    "\n",
    "\n",
    "    print('done')\n",
    "\n"
   ]
  },
  {
   "cell_type": "markdown",
   "id": "99b8816b-2b2e-40a0-9dac-c2572d732693",
   "metadata": {},
   "source": [
    "All the following lines of code pass in the training data and test data that has the specific classes removed, and outputs the SVM's predictions as csv files. In the classes that are only general or specific and not both, I output a dummy file to be deleted called **DELETEclassname_SVM_Pred_Labels_general.csv** for example, so I knew to delete it."
   ]
  },
  {
   "cell_type": "code",
   "execution_count": 16,
   "id": "09978b72-82d7-4a11-a786-4e7f3661be92",
   "metadata": {},
   "outputs": [
    {
     "name": "stdout",
     "output_type": "stream",
     "text": [
      "Training done\n",
      "Classification done\n",
      "1678418317.5503428\n",
      "Training done\n",
      "1678418324.7567801\n",
      "done\n"
     ]
    }
   ],
   "source": [
    "# ASTROCYTE - general and specific\n",
    "SVM_FullData_Function('general_train/astrocyte_general_train.csv', 'general_labels/astrocyte_general_labels.csv', \n",
    "                      'specific_labels/astrocyte_specific_labels.csv',\n",
    "                      'SVM_output/astrocyte_SVM_Pred_Labels_general.csv', 'SVM_output/astrocyte_SVM_Pred_Labels_specific.csv')"
   ]
  },
  {
   "cell_type": "code",
   "execution_count": 18,
   "id": "cf2a40ac-3a68-4b84-ba3b-5452381626ca",
   "metadata": {},
   "outputs": [
    {
     "name": "stdout",
     "output_type": "stream",
     "text": [
      "Training done\n",
      "Classification done\n",
      "1678418883.66164\n",
      "Training done\n",
      "1678418891.6141179\n",
      "done\n"
     ]
    }
   ],
   "source": [
    "# BRAIN MICROVASCULAR ENDOTHELIAL CELL - specific\n",
    "SVM_FullData_Function('specific_train/brainmicrovascularendothelialcell_specific_train.csv', 'specific_labels/brainmicrovascularendothelialcell_specific_labels.csv', \n",
    "                      'specific_labels/brainmicrovascularendothelialcell_specific_labels.csv',\n",
    "                      'SVM_output/DELETEbrainmicrovascularendothelialcell_SVM_Pred_Labels_general.csv', 'SVM_output/brainmicrovascularendothelialcell_SVM_Pred_Labels_specific.csv')"
   ]
  },
  {
   "cell_type": "code",
   "execution_count": 19,
   "id": "ad665c30-2ff9-4fca-8058-b37b82209b8b",
   "metadata": {},
   "outputs": [
    {
     "name": "stdout",
     "output_type": "stream",
     "text": [
      "Training done\n",
      "Classification done\n",
      "1678419046.4458501\n",
      "Training done\n",
      "1678419053.99188\n",
      "done\n"
     ]
    }
   ],
   "source": [
    "# ENDOTHELIAL CELL - general\n",
    "SVM_FullData_Function('general_train/endothelialcell_general_train.csv', 'general_labels/endothelialcell_general_labels.csv', \n",
    "                      'general_labels/endothelialcell_general_labels.csv',\n",
    "                      'SVM_output/endothelialcell_SVM_Pred_Labels_general.csv', 'SVM_output/DELETEendothelialcell_SVM_Pred_Labels_specific.csv')"
   ]
  },
  {
   "cell_type": "code",
   "execution_count": 20,
   "id": "0a75eac5-2051-4d9c-b6cb-d777cb56d73c",
   "metadata": {},
   "outputs": [
    {
     "name": "stdout",
     "output_type": "stream",
     "text": [
      "Training done\n",
      "Classification done\n",
      "1678419252.763104\n",
      "Training done\n",
      "1678419255.612958\n",
      "done\n"
     ]
    }
   ],
   "source": [
    "# EXCITATORY NEURON - specific\n",
    "SVM_FullData_Function('specific_train/excitatoryneuron_specific_train.csv', 'specific_labels/excitatoryneuron_specific_labels.csv', \n",
    "                      'specific_labels/excitatoryneuron_specific_labels.csv',\n",
    "                      'SVM_output/DELETEexcitatoryneuron_SVM_Pred_Labels_general.csv', 'SVM_output/excitatoryneuron_SVM_Pred_Labels_specific.csv')"
   ]
  },
  {
   "cell_type": "code",
   "execution_count": 22,
   "id": "3306e342-7ba4-4857-90b3-de0b9e9be05a",
   "metadata": {},
   "outputs": [
    {
     "name": "stdout",
     "output_type": "stream",
     "text": [
      "Training done\n",
      "Classification done\n",
      "1678419518.5677838\n",
      "Training done\n",
      "1678419526.63181\n",
      "done\n"
     ]
    }
   ],
   "source": [
    "# INHIBITORY NEURON - specific\n",
    "SVM_FullData_Function('specific_train/inhibitoryneuron_specific_train.csv', 'specific_labels/inhibitoryneuron_specific_labels.csv', \n",
    "                      'specific_labels/inhibitoryneuron_specific_labels.csv',\n",
    "                      'SVM_output/DELETEinhibitoryneuron_SVM_Pred_Labels_general.csv', 'SVM_output/inhibitoryneuron_SVM_Pred_Labels_specific.csv')"
   ]
  },
  {
   "cell_type": "code",
   "execution_count": 23,
   "id": "baf46f70-a606-4ef7-bbbf-606c30f85202",
   "metadata": {},
   "outputs": [
    {
     "name": "stdout",
     "output_type": "stream",
     "text": [
      "Training done\n",
      "Classification done\n",
      "1678419707.076803\n",
      "Training done\n",
      "1678419715.42853\n",
      "done\n"
     ]
    }
   ],
   "source": [
    "# MICROGLIAL CELL - general and specific\n",
    "SVM_FullData_Function('general_train/microglialcell_general_train.csv', 'general_labels/microglialcell_general_labels.csv', \n",
    "                      'specific_labels/microglialcell_specific_labels.csv',\n",
    "                      'SVM_output/microglialcell_SVM_Pred_Labels_general.csv', 'SVM_output/microglialcell_SVM_Pred_Labels_specific.csv')"
   ]
  },
  {
   "cell_type": "code",
   "execution_count": 24,
   "id": "288cf208-4c38-463d-b664-1a10eaead7a2",
   "metadata": {},
   "outputs": [
    {
     "name": "stdout",
     "output_type": "stream",
     "text": [
      "Training done\n",
      "Classification done\n",
      "1678420693.4461591\n",
      "Training done\n",
      "1678420695.847661\n",
      "done\n"
     ]
    }
   ],
   "source": [
    "# NEURON - general\n",
    "SVM_FullData_Function('general_train/neuron_general_train.csv', 'general_labels/neuron_general_labels.csv', \n",
    "                      'general_labels/neuron_general_labels.csv',\n",
    "                      'SVM_output/neuron_SVM_Pred_Labels_general.csv', 'SVM_output/DELETEneuron_SVM_Pred_Labels_specific.csv')"
   ]
  },
  {
   "cell_type": "code",
   "execution_count": 34,
   "id": "6555e978-78da-43b0-8a06-ff8b463515de",
   "metadata": {},
   "outputs": [
    {
     "name": "stdout",
     "output_type": "stream",
     "text": [
      "Training done\n",
      "Classification done\n",
      "1678500635.059972\n",
      "Training done\n",
      "1678500642.9794948\n",
      "done\n"
     ]
    }
   ],
   "source": [
    "# OLIGODENDROCYTE - general\n",
    "SVM_FullData_Function('general_train/oligodendrocyte_general_train.csv', 'general_labels/oligodendrocytes_general_labels.csv', \n",
    "                      'general_labels/oligodendrocytes_general_labels.csv',\n",
    "                      'SVM_output/oligodendrocyte_SVM_Pred_Labels_general.csv', 'SVM_output/DELETEoligodendrocyte_SVM_Pred_Labels_specific.csv')"
   ]
  },
  {
   "cell_type": "code",
   "execution_count": 35,
   "id": "8dca7e36-e926-40c1-b285-594ea035cf07",
   "metadata": {},
   "outputs": [
    {
     "name": "stdout",
     "output_type": "stream",
     "text": [
      "Training done\n",
      "Classification done\n",
      "1678500788.8971012\n",
      "Training done\n",
      "1678500796.8018408\n",
      "done\n"
     ]
    }
   ],
   "source": [
    "# OLIGODENDROCYTE - general\n",
    "SVM_FullData_Function('specific_train/oligodendrocyte_specific_train.csv', 'specific_labels/oligodendrocyte_specific_labels.csv', \n",
    "                      'specific_labels/oligodendrocyte_specific_labels.csv',\n",
    "                      'SVM_output/DELETEoligodendrocyte_SVM_Pred_Labels_general.csv', 'SVM_output/oligodendrocyte_SVM_Pred_Labels_specific.csv')"
   ]
  },
  {
   "cell_type": "code",
   "execution_count": 36,
   "id": "52cecd1e-eb4f-43c4-b07b-0bdac90ab296",
   "metadata": {},
   "outputs": [
    {
     "name": "stdout",
     "output_type": "stream",
     "text": [
      "Training done\n",
      "Classification done\n",
      "1678501824.5963252\n",
      "Training done\n",
      "1678501831.694295\n",
      "done\n"
     ]
    }
   ],
   "source": [
    "# OLIGODENDROCYTE PRECURSOR CELL - specific\n",
    "SVM_FullData_Function('specific_train/oligodendrocyteprecursorcell_specific_train.csv', 'specific_labels/oligodendrocyteprecursorcell_specific_labels.csv', \n",
    "                      'specific_labels/oligodendrocyteprecursorcell_specific_labels.csv',\n",
    "                      'SVM_output/DELETEoligodendrocyteprecursorcell_SVM_Pred_Labels_general.csv', 'SVM_output/oligodendrocyteprecursorcell_SVM_Pred_Labels_specific.csv')"
   ]
  }
 ],
 "metadata": {
  "kernelspec": {
   "display_name": "Python 3 (ipykernel)",
   "language": "python",
   "name": "python3"
  },
  "language_info": {
   "codemirror_mode": {
    "name": "ipython",
    "version": 3
   },
   "file_extension": ".py",
   "mimetype": "text/x-python",
   "name": "python",
   "nbconvert_exporter": "python",
   "pygments_lexer": "ipython3",
   "version": "3.9.4"
  }
 },
 "nbformat": 4,
 "nbformat_minor": 5
}
