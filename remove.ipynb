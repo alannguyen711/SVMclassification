{
 "cells": [
  {
   "cell_type": "code",
   "execution_count": 1,
   "id": "5b2c7bda-f01f-49d6-8b72-b3251d00986e",
   "metadata": {},
   "outputs": [],
   "source": [
    "import numpy as np\n",
    "import pandas as pd"
   ]
  },
  {
   "cell_type": "markdown",
   "id": "a62e46d4-adcc-4927-b03a-55d4aae567fd",
   "metadata": {},
   "source": [
    "Read in csv files: the training data along with its general and specific labels."
   ]
  },
  {
   "cell_type": "code",
   "execution_count": 2,
   "id": "cc3195cc-6a77-4ecb-80c5-f171d1d7a878",
   "metadata": {},
   "outputs": [],
   "source": [
    "general_labels = pd.read_csv('data/ref_data_labels_general.csv')\n",
    "specific_labels = pd.read_csv('data/ref_data_labels_specific.csv')\n",
    "train = pd.read_csv('data/ref_data.csv')"
   ]
  },
  {
   "cell_type": "markdown",
   "id": "f3160842-1a36-4839-9667-9e7e69713e12",
   "metadata": {},
   "source": [
    "The following code block is how I found the general and specific labels from the data sets."
   ]
  },
  {
   "cell_type": "code",
   "execution_count": 3,
   "id": "0caff650-64ec-4a08-98c0-b3a16dd6be2f",
   "metadata": {},
   "outputs": [
    {
     "name": "stdout",
     "output_type": "stream",
     "text": [
      "['astrocyte', 'endothelial cell', 'microglial cell', 'neuron', 'oligodendrocyte']\n",
      "['astrocyte', 'brain microvascular endothelial cell', 'excitatory neuron', 'inhibitory neuron', 'microglial cell', 'oligodendrocyte', 'oligodendrocyte precursor cell']\n"
     ]
    }
   ],
   "source": [
    "generals = [*set(general_labels['x'][0:])]\n",
    "generals.sort()\n",
    "print(generals)\n",
    "specifics = [*set(specific_labels['x'][0:])]\n",
    "specifics.sort()\n",
    "print(specifics)"
   ]
  },
  {
   "cell_type": "markdown",
   "id": "0ce6f172-101d-4707-8e1e-3aa7f064a2e7",
   "metadata": {},
   "source": [
    "The following for loop adds each of the cell labels (i.e. the sequence of DNA the cell is tagged with) to a list called cols. I popped off the first column because it was just an unnamed empty column."
   ]
  },
  {
   "cell_type": "code",
   "execution_count": 4,
   "id": "5f4528c9-50e3-49f4-9f9a-ffa9e50fdc1a",
   "metadata": {},
   "outputs": [
    {
     "data": {
      "text/plain": [
       "'Unnamed: 0'"
      ]
     },
     "execution_count": 4,
     "metadata": {},
     "output_type": "execute_result"
    }
   ],
   "source": [
    "cols = []\n",
    "for col in train.columns:\n",
    "    cols.append(col)\n",
    "cols.pop(0)"
   ]
  },
  {
   "cell_type": "markdown",
   "id": "11f22dbb-cab0-464a-aee2-4d724a4455e8",
   "metadata": {},
   "source": [
    "The function **generalRemovals** takes in **name** as a parameter and returns a DataFrame with all of the cells of type **name** removed from the training data. I used the **drop()** function to remove the columns with the cell labels stored in **removals**."
   ]
  },
  {
   "cell_type": "code",
   "execution_count": 5,
   "id": "1fb720dd-8875-420d-a888-073ad4c6f1ff",
   "metadata": {},
   "outputs": [],
   "source": [
    "def generalRemovals(name: str):\n",
    "    indices = []\n",
    "    general_train = train\n",
    "    for i in range(len(general_labels)):\n",
    "        if general_labels['x'][i] == name:\n",
    "            indices.append(i)\n",
    "    removals = []\n",
    "    for x in indices:\n",
    "        removals.append(cols[x])\n",
    "    general_train = general_train.drop(columns=removals)\n",
    "    return(general_train)"
   ]
  },
  {
   "cell_type": "code",
   "execution_count": 6,
   "id": "e7e886a7-16eb-4369-82a2-23e7fe29e4df",
   "metadata": {},
   "outputs": [],
   "source": [
    "# ASTROCYTE - general\n",
    "astrocyte_general_train = generalRemovals('astrocyte')"
   ]
  },
  {
   "cell_type": "code",
   "execution_count": 7,
   "id": "c9266a69-4205-4d73-a687-ab8ff3b23e29",
   "metadata": {},
   "outputs": [],
   "source": [
    "# ENDOTHELIAL CELL - general\n",
    "endothelialcell_general_train = generalRemovals('endothelial cell')"
   ]
  },
  {
   "cell_type": "code",
   "execution_count": 8,
   "id": "dd92eb0f-08c4-46d2-b9f6-bc0d47c80ed7",
   "metadata": {},
   "outputs": [],
   "source": [
    "# MICROGLIAL CELL - general\n",
    "microglialcell_general_train = generalRemovals('microglial cell')"
   ]
  },
  {
   "cell_type": "code",
   "execution_count": 9,
   "id": "a260faa2-f043-450f-a431-f9f244a7c6be",
   "metadata": {},
   "outputs": [],
   "source": [
    "# NEURON - general\n",
    "neuron_general_train = generalRemovals('neuron')"
   ]
  },
  {
   "cell_type": "code",
   "execution_count": 10,
   "id": "5f559add-9aab-44cb-b305-e16b8b485b6c",
   "metadata": {},
   "outputs": [],
   "source": [
    "# OLIGOGENDROCYTE - general\n",
    "oligodendrocyte_general_train = generalRemovals('oligodendrocyte')"
   ]
  },
  {
   "cell_type": "markdown",
   "id": "e3a0f0a8-60e4-4fe7-b19e-9020688b9a3f",
   "metadata": {},
   "source": [
    "This is a sanity check to compare with the number of cells that remain in the general labels after the corresponding classes are removed."
   ]
  },
  {
   "cell_type": "code",
   "execution_count": 11,
   "id": "0c9be6d5-9357-40fa-9d77-68fa1dcf8bef",
   "metadata": {},
   "outputs": [
    {
     "name": "stdout",
     "output_type": "stream",
     "text": [
      "3027\n",
      "3249\n",
      "3273\n",
      "550\n",
      "3066\n"
     ]
    }
   ],
   "source": [
    "print(len(astrocyte_general_train.columns))\n",
    "print(len(endothelialcell_general_train.columns))\n",
    "print(len(microglialcell_general_train.columns))\n",
    "print(len(neuron_general_train.columns))\n",
    "print(len(oligodendrocyte_general_train.columns))"
   ]
  },
  {
   "cell_type": "markdown",
   "id": "19ca552e-3b5f-4288-b053-ba9a4472a11c",
   "metadata": {},
   "source": [
    "The modified training data can now be exported as csv files."
   ]
  },
  {
   "cell_type": "code",
   "execution_count": 153,
   "id": "0a5091b6-a8cc-4e46-810b-a9dd3656d2c2",
   "metadata": {},
   "outputs": [],
   "source": [
    "astrocyte_general_train.to_csv('general_train/astrocyte_general_train.csv', index=False)\n",
    "endothelialcell_general_train.to_csv('general_train/endothelialcell_general_train.csv', index=False)\n",
    "microglialcell_general_train.to_csv('general_train/microglialcell_general_train.csv', index=False)\n",
    "neuron_general_train.to_csv('general_train/neuron_general_train.csv', index=False)\n",
    "oligodendrocyte_general_train.to_csv('general_train/oligodendrocyte_general_train.csv', index=False)"
   ]
  },
  {
   "cell_type": "markdown",
   "id": "d1fdcc4c-cd25-4ce9-8857-71b96366d3e7",
   "metadata": {},
   "source": [
    "Similar to **generalRemovals**, the function **specificRemovals** takes in **name** as a parameter and returns a DataFrame with all of the cells of type **name** removed from the training data. I used the **drop()** function to remove the columns with the cell labels stored in **removals**."
   ]
  },
  {
   "cell_type": "code",
   "execution_count": 12,
   "id": "effd8d97-840a-4c70-bc34-8af70b256f73",
   "metadata": {},
   "outputs": [],
   "source": [
    "def specificRemovals(name: str):\n",
    "    indices = []\n",
    "    specific_train = train\n",
    "    for i in range(len(specific_labels)):\n",
    "        if specific_labels['x'][i] == name:\n",
    "            indices.append(i)\n",
    "    removals = []\n",
    "    for x in indices:\n",
    "        removals.append(cols[x])\n",
    "    specific_train = specific_train.drop(columns=removals)\n",
    "    return(specific_train)"
   ]
  },
  {
   "cell_type": "code",
   "execution_count": 13,
   "id": "f88915c9-2c1e-4acf-8496-3232faa34c63",
   "metadata": {},
   "outputs": [],
   "source": [
    "# ASTROCYTE - specific\n",
    "astrocyte_specific_train = specificRemovals('astrocyte')"
   ]
  },
  {
   "cell_type": "code",
   "execution_count": 14,
   "id": "fc770931-435d-4d4c-9b82-11a2e869b45a",
   "metadata": {},
   "outputs": [],
   "source": [
    "# BRAIN MICROVASCULAT ENDOTHELIAL CELL - specific\n",
    "brainmicrovascularendothelialcell_specific_train = specificRemovals('brain microvascular endothelial cell')"
   ]
  },
  {
   "cell_type": "code",
   "execution_count": 15,
   "id": "b21287fa-9f98-484d-beea-6791b11dfa0a",
   "metadata": {},
   "outputs": [],
   "source": [
    "# EXCITATORY NEURON - specific\n",
    "excitatoryneuron_specific_train = specificRemovals('excitatory neuron')"
   ]
  },
  {
   "cell_type": "code",
   "execution_count": 16,
   "id": "2cfdeda8-c682-4b62-9b58-c0fcabddf64b",
   "metadata": {},
   "outputs": [],
   "source": [
    "# INHIBITORY NEURON - specific\n",
    "inhibitoryneuron_specific_train = specificRemovals('inhibitory neuron')"
   ]
  },
  {
   "cell_type": "code",
   "execution_count": 17,
   "id": "ce478810-61e4-4e68-be67-349d40d5cb98",
   "metadata": {},
   "outputs": [],
   "source": [
    "# MICROGLIAL CELL - specific\n",
    "microglialcell_specific_train = specificRemovals('microglial cell')"
   ]
  },
  {
   "cell_type": "code",
   "execution_count": 18,
   "id": "5529c3ad-7f06-4a8a-a9c7-c7ad5d760ad9",
   "metadata": {},
   "outputs": [],
   "source": [
    "# OLIGODENDROCYTE - specific\n",
    "oligodendrocyte_specific_train = specificRemovals('oligodendrocyte')"
   ]
  },
  {
   "cell_type": "code",
   "execution_count": 19,
   "id": "abb20163-e7da-45bb-bbd3-ce39dc9200d1",
   "metadata": {},
   "outputs": [],
   "source": [
    "# OLIGODENDROCYTE PRECURSOR CELL - specific\n",
    "oligodendrocyteprecursorcell_specific_train = specificRemovals('oligodendrocyte precursor cell')"
   ]
  },
  {
   "cell_type": "markdown",
   "id": "e6cd63f6-69f5-418b-9d59-4a9f31434f18",
   "metadata": {},
   "source": [
    "This is a sanity check to compare with the number of cells that remain in the specific labels after the corresponding classes are removed."
   ]
  },
  {
   "cell_type": "code",
   "execution_count": 20,
   "id": "0f7b50f9-7245-46d7-b8d4-f1c95b4069c3",
   "metadata": {},
   "outputs": [
    {
     "name": "stdout",
     "output_type": "stream",
     "text": [
      "3027\n",
      "3249\n",
      "800\n",
      "3041\n",
      "3273\n",
      "3176\n",
      "3181\n"
     ]
    }
   ],
   "source": [
    "# check lengths\n",
    "print(len(astrocyte_specific_train.columns))\n",
    "print(len(brainmicrovascularendothelialcell_specific_train.columns))\n",
    "print(len(excitatoryneuron_specific_train.columns))\n",
    "print(len(inhibitoryneuron_specific_train.columns))\n",
    "print(len(microglialcell_specific_train.columns))\n",
    "print(len(oligodendrocyte_specific_train.columns))\n",
    "print(len(oligodendrocyteprecursorcell_specific_train.columns))"
   ]
  },
  {
   "cell_type": "markdown",
   "id": "73f8a7cf-0b41-4434-acbe-317334b4bf85",
   "metadata": {},
   "source": [
    "The modified training data can now be exported as csv files."
   ]
  },
  {
   "cell_type": "code",
   "execution_count": 31,
   "id": "6c615e0a-ae42-45f9-a432-850930711a85",
   "metadata": {},
   "outputs": [],
   "source": [
    "astrocyte_specific_train.to_csv('specific_train/astrocyte_specific_train.csv', index=False)\n",
    "brainmicrovascularendothelialcell_specific_train.to_csv('specific_train/brainmicrovascularendothelialcell_specific_train.csv', index=False)\n",
    "excitatoryneuron_specific_train.to_csv('specific_train/excitatoryneuron_specific_train.csv', index=False)\n",
    "inhibitoryneuron_specific_train.to_csv('specific_train/inhibitoryneuron_specific_train.csv', index=False)\n",
    "microglialcell_specific_train.to_csv('specific_train/microglialcell_specific_train.csv', index=False)\n",
    "oligodendrocyte_specific_train.to_csv('specific_train/oligodendrocyte_specific_train.csv', index=False)\n",
    "oligodendrocyteprecursorcell_specific_train.to_csv('specific_train/oligodendrocyteprecursorcell_specific_train.csv', index=False)"
   ]
  },
  {
   "cell_type": "markdown",
   "id": "a3f49477-8681-4d49-9c1d-5eb6a7db3c73",
   "metadata": {},
   "source": [
    "Now that we have removed the necessary cells from the training data, we must also remove them from the associated labels. This is accomplished with the function **drop_general**, which takes **name** as a parameter and returns the general labels with all the labels of type **name** removed."
   ]
  },
  {
   "cell_type": "code",
   "execution_count": 22,
   "id": "fdcf9cdb-d7e8-4a61-ab56-58be9b55f5a8",
   "metadata": {},
   "outputs": [],
   "source": [
    "def drop_general(name: str):\n",
    "    to_drop = []\n",
    "    general = general_labels\n",
    "    for i in range(len(general)):\n",
    "        if general['x'][i] == name:\n",
    "            to_drop.append(i)\n",
    "    general = general.drop(to_drop)\n",
    "    return general"
   ]
  },
  {
   "cell_type": "code",
   "execution_count": 23,
   "id": "8d9b6554-265a-4992-8f94-ceeb61ed0a17",
   "metadata": {},
   "outputs": [],
   "source": [
    "astrocyte_general_labels = drop_general('astrocyte')\n",
    "endothelialcell_general_labels = drop_general('endothelial cell')\n",
    "microglialcell_general_labels = drop_general('microglial cell')\n",
    "neuron_general_labels = drop_general('neuron')\n",
    "oligodendrocyte_general_labels = drop_general('oligodendrocyte')"
   ]
  },
  {
   "cell_type": "markdown",
   "id": "5ee0a85c-cce1-497e-97b2-39c679d9a002",
   "metadata": {},
   "source": [
    "We use these values in the sanity check that was mentioned earlier."
   ]
  },
  {
   "cell_type": "code",
   "execution_count": 24,
   "id": "b5146035-198d-4ffd-a8c3-c7a0f4eb7fb4",
   "metadata": {},
   "outputs": [
    {
     "name": "stdout",
     "output_type": "stream",
     "text": [
      "3026\n",
      "3248\n",
      "3272\n",
      "549\n",
      "3065\n"
     ]
    }
   ],
   "source": [
    "print(len(astrocyte_general_labels))\n",
    "print(len(endothelialcell_general_labels))\n",
    "print(len(microglialcell_general_labels))\n",
    "print(len(neuron_general_labels))\n",
    "print(len(oligodendrocyte_general_labels))"
   ]
  },
  {
   "cell_type": "markdown",
   "id": "2e03f36a-767c-4ed1-9ed0-5d971fd173f4",
   "metadata": {},
   "source": [
    "Export all the DataFrames to csv files."
   ]
  },
  {
   "cell_type": "code",
   "execution_count": 25,
   "id": "a398876c-af01-4127-98b4-952739b57177",
   "metadata": {},
   "outputs": [],
   "source": [
    "astrocyte_general_labels.to_csv('general_labels/astrocyte_general_labels.csv', index=False)\n",
    "endothelialcell_general_labels.to_csv('general_labels/endothelialcell_general_labels.csv', index=False)\n",
    "microglialcell_general_labels.to_csv('general_labels/microglialcell_general_labels.csv', index=False)\n",
    "neuron_general_labels.to_csv('general_labels/neuron_general_labels.csv', index=False)\n",
    "oligodendrocyte_general_labels.to_csv('general_labels/oligodendrocytes_general_labels.csv', index=False)"
   ]
  },
  {
   "cell_type": "markdown",
   "id": "6815eee8-9ada-426c-a535-b9a0508c05dd",
   "metadata": {},
   "source": [
    "The function **drop_specific**, which takes **name** as a parameter and returns the specific labels with all the labels of type **name** removed."
   ]
  },
  {
   "cell_type": "code",
   "execution_count": 26,
   "id": "1869620f-3062-4c99-afe4-aa1640bf7b71",
   "metadata": {},
   "outputs": [],
   "source": [
    "def drop_specific(name: str):\n",
    "    to_drop = []\n",
    "    specific = specific_labels\n",
    "    for i in range(len(specific)):\n",
    "        if specific['x'][i] == name:\n",
    "            to_drop.append(i)\n",
    "    specific = specific.drop(to_drop)\n",
    "    return specific"
   ]
  },
  {
   "cell_type": "code",
   "execution_count": 27,
   "id": "605e3953-3f18-4dc2-9e2d-81a287699cf6",
   "metadata": {},
   "outputs": [],
   "source": [
    "astrocyte_specific_labels = drop_specific('astrocyte')\n",
    "brainmicrovascularendothelialcell_specific_labels = drop_specific('brain microvascular endothelial cell')\n",
    "excitatoryneuron_specific_labels = drop_specific('excitatory neuron')\n",
    "inhibitoryneuron_specific_labels = drop_specific('inhibitory neuron')\n",
    "microglialcell_specific_labels = drop_specific('microglial cell')\n",
    "oligodendrocyte_specific_labels = drop_specific('oligodendrocyte')\n",
    "oligodendrocyteprecursorcell_specific_labels = drop_specific('oligodendrocyte precursor cell')"
   ]
  },
  {
   "cell_type": "markdown",
   "id": "2e70b3c5-083a-46e0-acd7-0c2284e82d71",
   "metadata": {},
   "source": [
    "We use these values in the sanity check that was mentioned earlier."
   ]
  },
  {
   "cell_type": "code",
   "execution_count": 28,
   "id": "67a36b99-3efe-4e41-96f3-31891b7fd4b9",
   "metadata": {},
   "outputs": [
    {
     "name": "stdout",
     "output_type": "stream",
     "text": [
      "3026\n",
      "3248\n",
      "799\n",
      "3040\n",
      "3272\n",
      "3175\n",
      "3180\n"
     ]
    }
   ],
   "source": [
    "print(len(astrocyte_specific_labels))\n",
    "print(len(brainmicrovascularendothelialcell_specific_labels))\n",
    "print(len(excitatoryneuron_specific_labels))\n",
    "print(len(inhibitoryneuron_specific_labels))\n",
    "print(len(microglialcell_specific_labels))\n",
    "print(len(oligodendrocyte_specific_labels))\n",
    "print(len(oligodendrocyteprecursorcell_specific_labels))"
   ]
  },
  {
   "cell_type": "markdown",
   "id": "15fc5c18-07bc-484e-8470-b89be5d753e4",
   "metadata": {},
   "source": [
    "Export all the DataFrames to csv files."
   ]
  },
  {
   "cell_type": "code",
   "execution_count": 30,
   "id": "32c8e54c-88db-4c9d-bdae-74e262e61d9d",
   "metadata": {},
   "outputs": [],
   "source": [
    "# export to csv files\n",
    "astrocyte_specific_labels.to_csv('specific_labels/astrocyte_specific_labels.csv', index=False)\n",
    "brainmicrovascularendothelialcell_specific_labels.to_csv('specific_labels/brainmicrovascularendothelialcell_specific_labels.csv', index=False)\n",
    "excitatoryneuron_specific_labels.to_csv('specific_labels/excitatoryneuron_specific_labels.csv', index=False)\n",
    "inhibitoryneuron_specific_labels.to_csv('specific_labels/inhibitoryneuron_specific_labels.csv', index=False)\n",
    "microglialcell_specific_labels.to_csv('specific_labels/microglialcell_specific_labels.csv', index=False)\n",
    "oligodendrocyte_specific_labels.to_csv('specific_labels/oligodendrocyte_specific_labels.csv', index=False)\n",
    "oligodendrocyteprecursorcell_specific_labels.to_csv('specific_labels/oligodendrocyteprecursorcell_specific_labels.csv', index=False)"
   ]
  }
 ],
 "metadata": {
  "kernelspec": {
   "display_name": "Python 3 (ipykernel)",
   "language": "python",
   "name": "python3"
  },
  "language_info": {
   "codemirror_mode": {
    "name": "ipython",
    "version": 3
   },
   "file_extension": ".py",
   "mimetype": "text/x-python",
   "name": "python",
   "nbconvert_exporter": "python",
   "pygments_lexer": "ipython3",
   "version": "3.9.4"
  }
 },
 "nbformat": 4,
 "nbformat_minor": 5
}
